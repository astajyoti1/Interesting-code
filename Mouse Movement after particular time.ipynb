{
 "cells": [
  {
   "cell_type": "markdown",
   "metadata": {},
   "source": [
    "# Code for mouse movement after certain time"
   ]
  },
  {
   "cell_type": "code",
   "execution_count": null,
   "metadata": {
    "scrolled": true
   },
   "outputs": [],
   "source": [
    "from random import *\n",
    "import tkinter as tk\n",
    "import win32api, win32con,time\n",
    "\n",
    "while True:\n",
    "    #get screen size\n",
    "    root = tk.Tk()\n",
    "    screen_width = root.winfo_screenwidth()\n",
    "    screen_height = root.winfo_screenheight()\n",
    "    #pass random value to axis\n",
    "    x = randint(screen_height,screen_width)\n",
    "    y = randint(screen_height,screen_width)\n",
    "    win32api.SetCursorPos((x,y))\n",
    "    print('i am moving to x=',x,' and y=',y)\n",
    "    time.sleep(5)#call each 5 seconds (Mention your desired time in seconds)"
   ]
  }
 ],
 "metadata": {
  "kernelspec": {
   "display_name": "Python 3",
   "language": "python",
   "name": "python3"
  },
  "language_info": {
   "codemirror_mode": {
    "name": "ipython",
    "version": 3
   },
   "file_extension": ".py",
   "mimetype": "text/x-python",
   "name": "python",
   "nbconvert_exporter": "python",
   "pygments_lexer": "ipython3",
   "version": "3.8.5"
  }
 },
 "nbformat": 4,
 "nbformat_minor": 4
}
